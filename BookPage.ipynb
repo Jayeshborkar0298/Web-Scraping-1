{
 "cells": [
  {
   "cell_type": "code",
   "execution_count": 1,
   "metadata": {},
   "outputs": [],
   "source": [
    "from bs4 import BeautifulSoup\n",
    "import requests\n",
    "import csv"
   ]
  },
  {
   "cell_type": "code",
   "execution_count": 2,
   "metadata": {},
   "outputs": [],
   "source": [
    "url = \"https://bookpage.com/reviews\""
   ]
  },
  {
   "cell_type": "code",
   "execution_count": 3,
   "metadata": {},
   "outputs": [],
   "source": [
    "page = requests.get(url)"
   ]
  },
  {
   "cell_type": "code",
   "execution_count": 4,
   "metadata": {},
   "outputs": [],
   "source": [
    "soup = BeautifulSoup(page.text, \"html.parser\")"
   ]
  },
  {
   "cell_type": "code",
   "execution_count": 5,
   "metadata": {},
   "outputs": [],
   "source": [
    "Book_Name = []\n",
    "Author_Name = []\n",
    "Book_review = []\n",
    "Genre = []"
   ]
  },
  {
   "cell_type": "code",
   "execution_count": 6,
   "metadata": {},
   "outputs": [
    {
     "data": {
      "text/plain": [
       "[<h4 class=\"italic\">\n",
       " <a href=\"/reviews/25779-daniel-loedel-hades-argentina-fiction\">Hades, Argentina</a>\n",
       " </h4>,\n",
       " <h4 class=\"italic\">\n",
       " <a href=\"/reviews/25822-anna-north-outlawed-fiction\">Outlawed</a>\n",
       " </h4>,\n",
       " <h4 class=\"italic\">\n",
       " <a href=\"/reviews/25848-leuyen-pham-outside-inside-childrens\">Outside, Inside</a>\n",
       " </h4>,\n",
       " <h4 class=\"italic\">\n",
       " <a href=\"/reviews/25786-ashley-audrain-push-fiction\">The Push</a>\n",
       " </h4>,\n",
       " <h4 class=\"italic\">\n",
       " <a href=\"/reviews/25840-livia-blackburne-i-dream-popo-childrens\">I Dream of Popo</a>\n",
       " </h4>]"
      ]
     },
     "execution_count": 6,
     "metadata": {},
     "output_type": "execute_result"
    }
   ],
   "source": [
    "Name_book = soup.find_all('h4',class_=\"italic\")\n",
    "Name = Name_book[0:5]\n",
    "Name"
   ]
  },
  {
   "cell_type": "code",
   "execution_count": 7,
   "metadata": {},
   "outputs": [
    {
     "data": {
      "text/plain": [
       "['Hades, Argentina',\n",
       " 'Outlawed',\n",
       " 'Outside, Inside',\n",
       " 'The Push',\n",
       " 'I Dream of Popo']"
      ]
     },
     "execution_count": 7,
     "metadata": {},
     "output_type": "execute_result"
    }
   ],
   "source": [
    "for i in Name:\n",
    "    Book_Name.append(i.get_text().replace(\"\\n\",\"\"))\n",
    "Book_Name"
   ]
  },
  {
   "cell_type": "code",
   "execution_count": 8,
   "metadata": {},
   "outputs": [],
   "source": [
    "name_author = soup.find_all('p',class_=\"sans bold\")\n",
    "namea = name_author[0:5]"
   ]
  },
  {
   "cell_type": "code",
   "execution_count": 9,
   "metadata": {},
   "outputs": [
    {
     "data": {
      "text/plain": [
       "[<p class=\"sans bold\">\n",
       " Daniel Loedel\n",
       " </p>,\n",
       " <p class=\"sans bold\">\n",
       " Anna North\n",
       " </p>,\n",
       " <p class=\"sans bold\">\n",
       " LeUyen Pham\n",
       " </p>,\n",
       " <p class=\"sans bold\">\n",
       " Ashley Audrain\n",
       " </p>,\n",
       " <p class=\"sans bold\">\n",
       " Livia Blackburne, Julia Kuo\n",
       " </p>]"
      ]
     },
     "execution_count": 9,
     "metadata": {},
     "output_type": "execute_result"
    }
   ],
   "source": [
    "namea"
   ]
  },
  {
   "cell_type": "code",
   "execution_count": 10,
   "metadata": {},
   "outputs": [],
   "source": [
    "for i in namea:\n",
    "    Author_Name.append(i.get_text().replace(\"\\n\",\"\"))"
   ]
  },
  {
   "cell_type": "code",
   "execution_count": 11,
   "metadata": {},
   "outputs": [
    {
     "data": {
      "text/plain": [
       "['Daniel Loedel',\n",
       " 'Anna North',\n",
       " 'LeUyen Pham',\n",
       " 'Ashley Audrain',\n",
       " 'Livia Blackburne, Julia Kuo']"
      ]
     },
     "execution_count": 11,
     "metadata": {},
     "output_type": "execute_result"
    }
   ],
   "source": [
    "Author_Name"
   ]
  },
  {
   "cell_type": "code",
   "execution_count": 12,
   "metadata": {},
   "outputs": [],
   "source": [
    "review_book = soup.find_all('p',class_=\"excerpt\")\n",
    "bookr = review_book[0:5]"
   ]
  },
  {
   "cell_type": "code",
   "execution_count": 13,
   "metadata": {},
   "outputs": [
    {
     "data": {
      "text/plain": [
       "[<p class=\"excerpt\">\n",
       " As Tomás reenters the world of Argentina’s dirty war, time blurs, and the surreal blends with reality. As he relives trauma and torture, readers experience it with him, seeing a slice of history that is rarely talked about and feeling immersed in the ways that love, guilt and regret drive so many...\n",
       " </p>,\n",
       " <p class=\"excerpt\">\n",
       " <p>This ain’t no Louis L’Amour tale of the Wild West. <strong>Outlawed</strong>, the third novel by Anna North, is a gender-bending, genre-hopping yarn that’s part frontier novel, part <em>Handmaid’s Tale </em>and all ripsnorting fun.</p>\n",
       " </p>,\n",
       " <p class=\"excerpt\">\n",
       " <p>LeUyen Pham’s <strong>Outside, Inside </strong>addresses the subject of the COVID-19 pandemic for young readers with sensitivity and compassion.</p>\n",
       " </p>,\n",
       " <p class=\"excerpt\">\n",
       " <p>It’s easy to think of intimate, single-POV novels as somewhat simple narrative exercises, but Ashley Audrain’s gripping debut is proof that this is an illusion. In the hands of the right storyteller, even the most compact novels can be works of great complexity.</p>\n",
       " </p>,\n",
       " <p class=\"excerpt\">\n",
       " <p>A young girl stays in touch with her beloved grandmother, Popo, when her family moves to the United States from Taiwan in this exuberant picture book.</p>\n",
       " </p>]"
      ]
     },
     "execution_count": 13,
     "metadata": {},
     "output_type": "execute_result"
    }
   ],
   "source": [
    "bookr"
   ]
  },
  {
   "cell_type": "code",
   "execution_count": 14,
   "metadata": {},
   "outputs": [
    {
     "data": {
      "text/plain": [
       "['As Tomás reenters the world of Argentina’s dirty war, time blurs, and the surreal blends with reality. As he relives trauma and torture, readers experience it with him, seeing a slice of history that is rarely talked about and feeling immersed in the ways that love, guilt and regret drive so many...',\n",
       " 'This ain’t no Louis L’Amour tale of the Wild West. Outlawed, the third novel by Anna North, is a gender-bending, genre-hopping yarn that’s part frontier novel, part Handmaid’s Tale and all ripsnorting fun.',\n",
       " 'LeUyen Pham’s Outside, Inside addresses the subject of the COVID-19 pandemic for young readers with sensitivity and compassion.',\n",
       " 'It’s easy to think of intimate, single-POV novels as somewhat simple narrative exercises, but Ashley Audrain’s gripping debut is proof that this is an illusion. In the hands of the right storyteller, even the most compact novels can be works of great complexity.',\n",
       " 'A young girl stays in touch with her beloved grandmother, Popo, when her family moves to the United States from Taiwan in this exuberant picture book.']"
      ]
     },
     "execution_count": 14,
     "metadata": {},
     "output_type": "execute_result"
    }
   ],
   "source": [
    "for i in bookr:\n",
    "    Book_review.append(i.get_text().replace(\"\\n\",\"\"))\n",
    "Book_review"
   ]
  },
  {
   "cell_type": "code",
   "execution_count": 15,
   "metadata": {},
   "outputs": [],
   "source": [
    "genre = soup.find_all('p',class_=\"genre-links hidden-phone\")\n",
    "genre1 = genre[0:5]\n"
   ]
  },
  {
   "cell_type": "code",
   "execution_count": 16,
   "metadata": {},
   "outputs": [
    {
     "data": {
      "text/plain": [
       "[<p class=\"genre-links hidden-phone\">\n",
       " <a href=\"/search?book_genre=fiction\">Fiction</a>\n",
       "  / \n",
       " <a href=\"/search?book_genre=literary_fiction\">Literary Fiction</a>\n",
       " </p>,\n",
       " <p class=\"genre-links hidden-phone\">\n",
       " <a href=\"/search?book_genre=fiction\">Fiction</a>\n",
       "  / \n",
       " <a href=\"/search?book_genre=dystopian_fiction\">Dystopian Fiction</a>\n",
       "  / \n",
       " <a href=\"/search?book_genre=western\">Western</a>\n",
       " </p>,\n",
       " <p class=\"genre-links hidden-phone\">\n",
       " <a href=\"/search?book_genre=children_s\">Children's</a>\n",
       "  / \n",
       " <a href=\"/search?book_genre=children_s_picture_book\">Children's Picture Book</a>\n",
       " </p>,\n",
       " <p class=\"genre-links hidden-phone\">\n",
       " <a href=\"/search?book_genre=fiction\">Fiction</a>\n",
       "  / \n",
       " <a href=\"/search?book_genre=family_drama\">Family Drama</a>\n",
       " </p>,\n",
       " <p class=\"genre-links hidden-phone\">\n",
       " <a href=\"/search?book_genre=children_s\">Children's</a>\n",
       "  / \n",
       " <a href=\"/search?book_genre=children_s_picture_book\">Children's Picture Book</a>\n",
       " </p>]"
      ]
     },
     "execution_count": 16,
     "metadata": {},
     "output_type": "execute_result"
    }
   ],
   "source": [
    "genre1"
   ]
  },
  {
   "cell_type": "code",
   "execution_count": 17,
   "metadata": {},
   "outputs": [
    {
     "data": {
      "text/plain": [
       "['Fiction / Literary Fiction',\n",
       " 'Fiction / Dystopian Fiction / Western',\n",
       " \"Children's / Children's Picture Book\",\n",
       " 'Fiction / Family Drama',\n",
       " \"Children's / Children's Picture Book\"]"
      ]
     },
     "execution_count": 17,
     "metadata": {},
     "output_type": "execute_result"
    }
   ],
   "source": [
    "for i in genre1:\n",
    "    Genre.append(i.get_text().replace(\"\\n\",\"\"))\n",
    "Genre"
   ]
  },
  {
   "cell_type": "code",
   "execution_count": 18,
   "metadata": {},
   "outputs": [
    {
     "name": "stdout",
     "output_type": "stream",
     "text": [
      "5 5 5 5\n"
     ]
    }
   ],
   "source": [
    "print(len(Book_Name),len(Author_Name),len(Book_review),len(Genre))"
   ]
  },
  {
   "cell_type": "code",
   "execution_count": 24,
   "metadata": {},
   "outputs": [],
   "source": [
    "import pandas as pd\n",
    "booklist=pd.DataFrame({})\n",
    "booklist['Name']=Book_Name\n",
    "booklist['Author']=Author_Name\n",
    "booklist['Review']=Book_review\n",
    "booklist['Genre'] = Genre"
   ]
  },
  {
   "cell_type": "code",
   "execution_count": 25,
   "metadata": {},
   "outputs": [
    {
     "data": {
      "text/html": [
       "<div>\n",
       "<style scoped>\n",
       "    .dataframe tbody tr th:only-of-type {\n",
       "        vertical-align: middle;\n",
       "    }\n",
       "\n",
       "    .dataframe tbody tr th {\n",
       "        vertical-align: top;\n",
       "    }\n",
       "\n",
       "    .dataframe thead th {\n",
       "        text-align: right;\n",
       "    }\n",
       "</style>\n",
       "<table border=\"1\" class=\"dataframe\">\n",
       "  <thead>\n",
       "    <tr style=\"text-align: right;\">\n",
       "      <th></th>\n",
       "      <th>Name</th>\n",
       "      <th>Author</th>\n",
       "      <th>Review</th>\n",
       "      <th>Genre</th>\n",
       "    </tr>\n",
       "  </thead>\n",
       "  <tbody>\n",
       "    <tr>\n",
       "      <th>0</th>\n",
       "      <td>Hades, Argentina</td>\n",
       "      <td>Daniel Loedel</td>\n",
       "      <td>As Tomás reenters the world of Argentina’s dir...</td>\n",
       "      <td>Fiction / Literary Fiction</td>\n",
       "    </tr>\n",
       "    <tr>\n",
       "      <th>1</th>\n",
       "      <td>Outlawed</td>\n",
       "      <td>Anna North</td>\n",
       "      <td>This ain’t no Louis L’Amour tale of the Wild W...</td>\n",
       "      <td>Fiction / Dystopian Fiction / Western</td>\n",
       "    </tr>\n",
       "    <tr>\n",
       "      <th>2</th>\n",
       "      <td>Outside, Inside</td>\n",
       "      <td>LeUyen Pham</td>\n",
       "      <td>LeUyen Pham’s Outside, Inside addresses the su...</td>\n",
       "      <td>Children's / Children's Picture Book</td>\n",
       "    </tr>\n",
       "    <tr>\n",
       "      <th>3</th>\n",
       "      <td>The Push</td>\n",
       "      <td>Ashley Audrain</td>\n",
       "      <td>It’s easy to think of intimate, single-POV nov...</td>\n",
       "      <td>Fiction / Family Drama</td>\n",
       "    </tr>\n",
       "    <tr>\n",
       "      <th>4</th>\n",
       "      <td>I Dream of Popo</td>\n",
       "      <td>Livia Blackburne, Julia Kuo</td>\n",
       "      <td>A young girl stays in touch with her beloved g...</td>\n",
       "      <td>Children's / Children's Picture Book</td>\n",
       "    </tr>\n",
       "  </tbody>\n",
       "</table>\n",
       "</div>"
      ],
      "text/plain": [
       "               Name                       Author  \\\n",
       "0  Hades, Argentina                Daniel Loedel   \n",
       "1          Outlawed                   Anna North   \n",
       "2   Outside, Inside                  LeUyen Pham   \n",
       "3          The Push               Ashley Audrain   \n",
       "4   I Dream of Popo  Livia Blackburne, Julia Kuo   \n",
       "\n",
       "                                              Review  \\\n",
       "0  As Tomás reenters the world of Argentina’s dir...   \n",
       "1  This ain’t no Louis L’Amour tale of the Wild W...   \n",
       "2  LeUyen Pham’s Outside, Inside addresses the su...   \n",
       "3  It’s easy to think of intimate, single-POV nov...   \n",
       "4  A young girl stays in touch with her beloved g...   \n",
       "\n",
       "                                   Genre  \n",
       "0             Fiction / Literary Fiction  \n",
       "1  Fiction / Dystopian Fiction / Western  \n",
       "2   Children's / Children's Picture Book  \n",
       "3                 Fiction / Family Drama  \n",
       "4   Children's / Children's Picture Book  "
      ]
     },
     "execution_count": 25,
     "metadata": {},
     "output_type": "execute_result"
    }
   ],
   "source": [
    "booklist"
   ]
  },
  {
   "cell_type": "code",
   "execution_count": null,
   "metadata": {},
   "outputs": [],
   "source": []
  }
 ],
 "metadata": {
  "kernelspec": {
   "display_name": "Python 3",
   "language": "python",
   "name": "python3"
  },
  "language_info": {
   "codemirror_mode": {
    "name": "ipython",
    "version": 3
   },
   "file_extension": ".py",
   "mimetype": "text/x-python",
   "name": "python",
   "nbconvert_exporter": "python",
   "pygments_lexer": "ipython3",
   "version": "3.7.6"
  }
 },
 "nbformat": 4,
 "nbformat_minor": 4
}
