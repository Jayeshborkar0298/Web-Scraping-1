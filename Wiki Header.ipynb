{
 "cells": [
  {
   "cell_type": "markdown",
   "metadata": {},
   "source": [
    "# Assignment Q1(Headers of Wikipedia Page)"
   ]
  },
  {
   "cell_type": "code",
   "execution_count": null,
   "metadata": {},
   "outputs": [],
   "source": [
    "! pip install selenium"
   ]
  },
  {
   "cell_type": "code",
   "execution_count": 36,
   "metadata": {},
   "outputs": [],
   "source": [
    "import selenium\n",
    "import pandas as pd\n",
    "from selenium import webdriver"
   ]
  },
  {
   "cell_type": "code",
   "execution_count": 42,
   "metadata": {},
   "outputs": [],
   "source": [
    "driver = webdriver.Chrome(r\"C:\\Users\\jbork\\OneDrive\\Desktop\\chromedriver.exe\")"
   ]
  },
  {
   "cell_type": "code",
   "execution_count": 43,
   "metadata": {},
   "outputs": [],
   "source": [
    "url = \"https://en.wikipedia.org/wiki/Main_Page\""
   ]
  },
  {
   "cell_type": "code",
   "execution_count": 44,
   "metadata": {},
   "outputs": [],
   "source": [
    "driver.get(url)"
   ]
  },
  {
   "cell_type": "code",
   "execution_count": 45,
   "metadata": {},
   "outputs": [],
   "source": [
    "header_tags = []"
   ]
  },
  {
   "cell_type": "code",
   "execution_count": 46,
   "metadata": {},
   "outputs": [
    {
     "data": {
      "text/plain": [
       "[<selenium.webdriver.remote.webelement.WebElement (session=\"af1941b16f857e83dad106704aea3ea9\", element=\"cde114cc-87a7-46fa-9062-264a76f2f19b\")>,\n",
       " <selenium.webdriver.remote.webelement.WebElement (session=\"af1941b16f857e83dad106704aea3ea9\", element=\"0d5b7d60-26ad-42c8-998b-bc388558e519\")>,\n",
       " <selenium.webdriver.remote.webelement.WebElement (session=\"af1941b16f857e83dad106704aea3ea9\", element=\"52225fee-ed74-40b1-a37f-8bd8e8a8332d\")>,\n",
       " <selenium.webdriver.remote.webelement.WebElement (session=\"af1941b16f857e83dad106704aea3ea9\", element=\"9227a769-56a1-4fb7-814e-bacba37dc2d5\")>]"
      ]
     },
     "execution_count": 46,
     "metadata": {},
     "output_type": "execute_result"
    }
   ],
   "source": [
    "tags = driver.find_elements_by_xpath(\"//span[@class='mw-headline']\")\n",
    "tags[0:4]"
   ]
  },
  {
   "cell_type": "code",
   "execution_count": 47,
   "metadata": {},
   "outputs": [
    {
     "data": {
      "text/plain": [
       "[<selenium.webdriver.remote.webelement.WebElement (session=\"af1941b16f857e83dad106704aea3ea9\", element=\"cde114cc-87a7-46fa-9062-264a76f2f19b\")>,\n",
       " <selenium.webdriver.remote.webelement.WebElement (session=\"af1941b16f857e83dad106704aea3ea9\", element=\"0d5b7d60-26ad-42c8-998b-bc388558e519\")>,\n",
       " <selenium.webdriver.remote.webelement.WebElement (session=\"af1941b16f857e83dad106704aea3ea9\", element=\"52225fee-ed74-40b1-a37f-8bd8e8a8332d\")>,\n",
       " <selenium.webdriver.remote.webelement.WebElement (session=\"af1941b16f857e83dad106704aea3ea9\", element=\"9227a769-56a1-4fb7-814e-bacba37dc2d5\")>,\n",
       " <selenium.webdriver.remote.webelement.WebElement (session=\"af1941b16f857e83dad106704aea3ea9\", element=\"0c80d9ff-293e-4ff1-811f-970e9471ee4c\")>,\n",
       " <selenium.webdriver.remote.webelement.WebElement (session=\"af1941b16f857e83dad106704aea3ea9\", element=\"62baf4f6-b4da-4346-bab4-bd3aa5e062ad\")>,\n",
       " <selenium.webdriver.remote.webelement.WebElement (session=\"af1941b16f857e83dad106704aea3ea9\", element=\"e2d4a032-0fae-4822-bd43-546e83808c95\")>,\n",
       " <selenium.webdriver.remote.webelement.WebElement (session=\"af1941b16f857e83dad106704aea3ea9\", element=\"da909c4e-725e-43a0-981e-8dab33f4b09e\")>]"
      ]
     },
     "execution_count": 47,
     "metadata": {},
     "output_type": "execute_result"
    }
   ],
   "source": [
    "tags"
   ]
  },
  {
   "cell_type": "code",
   "execution_count": 48,
   "metadata": {},
   "outputs": [
    {
     "data": {
      "text/plain": [
       "[\"From today's featured article\",\n",
       " 'Did you know ...',\n",
       " 'In the news',\n",
       " 'On this day',\n",
       " \"Today's featured picture\",\n",
       " 'Other areas of Wikipedia',\n",
       " \"Wikipedia's sister projects\",\n",
       " 'Wikipedia languages']"
      ]
     },
     "execution_count": 48,
     "metadata": {},
     "output_type": "execute_result"
    }
   ],
   "source": [
    "for i in tags:\n",
    "    tags=i.text\n",
    "    header_tags.append(tags)\n",
    "header_tags"
   ]
  },
  {
   "cell_type": "code",
   "execution_count": 50,
   "metadata": {},
   "outputs": [],
   "source": [
    "df = pd.DataFrame({})\n",
    "df['tags']= header_tags"
   ]
  },
  {
   "cell_type": "code",
   "execution_count": 51,
   "metadata": {},
   "outputs": [
    {
     "data": {
      "text/html": [
       "<div>\n",
       "<style scoped>\n",
       "    .dataframe tbody tr th:only-of-type {\n",
       "        vertical-align: middle;\n",
       "    }\n",
       "\n",
       "    .dataframe tbody tr th {\n",
       "        vertical-align: top;\n",
       "    }\n",
       "\n",
       "    .dataframe thead th {\n",
       "        text-align: right;\n",
       "    }\n",
       "</style>\n",
       "<table border=\"1\" class=\"dataframe\">\n",
       "  <thead>\n",
       "    <tr style=\"text-align: right;\">\n",
       "      <th></th>\n",
       "      <th>tags</th>\n",
       "    </tr>\n",
       "  </thead>\n",
       "  <tbody>\n",
       "    <tr>\n",
       "      <th>0</th>\n",
       "      <td>From today's featured article</td>\n",
       "    </tr>\n",
       "    <tr>\n",
       "      <th>1</th>\n",
       "      <td>Did you know ...</td>\n",
       "    </tr>\n",
       "    <tr>\n",
       "      <th>2</th>\n",
       "      <td>In the news</td>\n",
       "    </tr>\n",
       "    <tr>\n",
       "      <th>3</th>\n",
       "      <td>On this day</td>\n",
       "    </tr>\n",
       "    <tr>\n",
       "      <th>4</th>\n",
       "      <td>Today's featured picture</td>\n",
       "    </tr>\n",
       "    <tr>\n",
       "      <th>5</th>\n",
       "      <td>Other areas of Wikipedia</td>\n",
       "    </tr>\n",
       "    <tr>\n",
       "      <th>6</th>\n",
       "      <td>Wikipedia's sister projects</td>\n",
       "    </tr>\n",
       "    <tr>\n",
       "      <th>7</th>\n",
       "      <td>Wikipedia languages</td>\n",
       "    </tr>\n",
       "  </tbody>\n",
       "</table>\n",
       "</div>"
      ],
      "text/plain": [
       "                            tags\n",
       "0  From today's featured article\n",
       "1               Did you know ...\n",
       "2                    In the news\n",
       "3                    On this day\n",
       "4       Today's featured picture\n",
       "5       Other areas of Wikipedia\n",
       "6    Wikipedia's sister projects\n",
       "7            Wikipedia languages"
      ]
     },
     "execution_count": 51,
     "metadata": {},
     "output_type": "execute_result"
    }
   ],
   "source": [
    "df"
   ]
  },
  {
   "cell_type": "code",
   "execution_count": null,
   "metadata": {},
   "outputs": [],
   "source": []
  }
 ],
 "metadata": {
  "kernelspec": {
   "display_name": "Python 3",
   "language": "python",
   "name": "python3"
  },
  "language_info": {
   "codemirror_mode": {
    "name": "ipython",
    "version": 3
   },
   "file_extension": ".py",
   "mimetype": "text/x-python",
   "name": "python",
   "nbconvert_exporter": "python",
   "pygments_lexer": "ipython3",
   "version": "3.7.6"
  }
 },
 "nbformat": 4,
 "nbformat_minor": 4
}
