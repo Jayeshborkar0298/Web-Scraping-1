{
 "cells": [
  {
   "cell_type": "code",
   "execution_count": 1,
   "metadata": {},
   "outputs": [],
   "source": [
    "from bs4 import BeautifulSoup\n",
    "import requests\n",
    "import csv"
   ]
  },
  {
   "cell_type": "code",
   "execution_count": 2,
   "metadata": {},
   "outputs": [],
   "source": [
    "url = \"https://forecast.weather.gov/MapClick.php?lat=37.777120000000025&lon=-122.41963999999996#.YANCDugzZPY\""
   ]
  },
  {
   "cell_type": "code",
   "execution_count": 3,
   "metadata": {},
   "outputs": [],
   "source": [
    "page = requests.get(url)"
   ]
  },
  {
   "cell_type": "code",
   "execution_count": 4,
   "metadata": {},
   "outputs": [],
   "source": [
    "soup = BeautifulSoup(page.text, \"html.parser\")"
   ]
  },
  {
   "cell_type": "code",
   "execution_count": 5,
   "metadata": {},
   "outputs": [],
   "source": [
    "Period = []\n",
    "Short_description = []\n",
    "Temprature = []\n",
    "Description = []"
   ]
  },
  {
   "cell_type": "code",
   "execution_count": 6,
   "metadata": {},
   "outputs": [
    {
     "data": {
      "text/plain": [
       "[<p class=\"period-name\">NOW until<br/>7:00pm Sat</p>,\n",
       " <p class=\"period-name\">This<br/>Afternoon</p>,\n",
       " <p class=\"period-name\">Tonight<br/><br/></p>,\n",
       " <p class=\"period-name\">Sunday<br/><br/></p>,\n",
       " <p class=\"period-name\">Sunday<br/>Night</p>,\n",
       " <p class=\"period-name\">M.L.King<br/>Day</p>,\n",
       " <p class=\"period-name\">Monday<br/>Night</p>,\n",
       " <p class=\"period-name\">Tuesday<br/><br/></p>,\n",
       " <p class=\"period-name\">Tuesday<br/>Night</p>]"
      ]
     },
     "execution_count": 6,
     "metadata": {},
     "output_type": "execute_result"
    }
   ],
   "source": [
    "period = soup.find_all('p',class_=\"period-name\")\n",
    "period"
   ]
  },
  {
   "cell_type": "code",
   "execution_count": 7,
   "metadata": {},
   "outputs": [
    {
     "data": {
      "text/plain": [
       "['NOW until7:00pm Sat',\n",
       " 'ThisAfternoon',\n",
       " 'Tonight',\n",
       " 'Sunday',\n",
       " 'SundayNight',\n",
       " 'M.L.KingDay',\n",
       " 'MondayNight',\n",
       " 'Tuesday',\n",
       " 'TuesdayNight']"
      ]
     },
     "execution_count": 7,
     "metadata": {},
     "output_type": "execute_result"
    }
   ],
   "source": [
    "for i in period:\n",
    "    Period.append(i.get_text().replace(\"\\n\",\"\"))\n",
    "Period"
   ]
  },
  {
   "cell_type": "code",
   "execution_count": 8,
   "metadata": {},
   "outputs": [
    {
     "data": {
      "text/plain": [
       "[<p class=\"short-desc\">High Surf Advisory</p>,\n",
       " <p class=\"short-desc\">Sunny</p>,\n",
       " <p class=\"short-desc\">Mostly Clear</p>,\n",
       " <p class=\"short-desc\">Sunny</p>,\n",
       " <p class=\"short-desc\">Mostly Clear</p>,\n",
       " <p class=\"short-desc\">Sunny</p>,\n",
       " <p class=\"short-desc\">Mostly Clear<br/>and Breezy</p>,\n",
       " <p class=\"short-desc\">Sunny and<br/>Breezy</p>,\n",
       " <p class=\"short-desc\">Mostly Clear</p>]"
      ]
     },
     "execution_count": 8,
     "metadata": {},
     "output_type": "execute_result"
    }
   ],
   "source": [
    "shortdes = soup.find_all('p',class_=\"short-desc\")\n",
    "shortdes"
   ]
  },
  {
   "cell_type": "code",
   "execution_count": null,
   "metadata": {},
   "outputs": [],
   "source": []
  },
  {
   "cell_type": "code",
   "execution_count": 9,
   "metadata": {},
   "outputs": [
    {
     "data": {
      "text/plain": [
       "['High Surf Advisory',\n",
       " 'Sunny',\n",
       " 'Mostly Clear',\n",
       " 'Sunny',\n",
       " 'Mostly Clear',\n",
       " 'Sunny',\n",
       " 'Mostly Clearand Breezy',\n",
       " 'Sunny andBreezy',\n",
       " 'Mostly Clear']"
      ]
     },
     "execution_count": 9,
     "metadata": {},
     "output_type": "execute_result"
    }
   ],
   "source": [
    "for i in shortdes:\n",
    "    Short_description.append(i.get_text().replace(\"\\n\",\"\"))\n",
    "Short_description"
   ]
  },
  {
   "cell_type": "code",
   "execution_count": 12,
   "metadata": {},
   "outputs": [
    {
     "data": {
      "text/plain": [
       "[<p class=\"temp temp-high\">High: 67 °F</p>,\n",
       " <p class=\"temp temp-high\">High: 68 °F</p>,\n",
       " <p class=\"temp temp-high\">High: 67 °F</p>,\n",
       " <p class=\"temp temp-high\">High: 66 °F</p>]"
      ]
     },
     "execution_count": 12,
     "metadata": {},
     "output_type": "execute_result"
    }
   ],
   "source": [
    "temprature = soup.find_all('p',class_=\"temp temp-low\") and soup.find_all('p',class_='temp temp-high')\n",
    "temprature"
   ]
  },
  {
   "cell_type": "code",
   "execution_count": 13,
   "metadata": {},
   "outputs": [
    {
     "data": {
      "text/plain": [
       "['High: 67 °F', 'High: 68 °F', 'High: 67 °F', 'High: 66 °F']"
      ]
     },
     "execution_count": 13,
     "metadata": {},
     "output_type": "execute_result"
    }
   ],
   "source": [
    "for i in temprature:\n",
    "    Temprature.append(i.get_text().replace(\"\\n\",\"\"))\n",
    "Temprature"
   ]
  },
  {
   "cell_type": "code",
   "execution_count": 19,
   "metadata": {},
   "outputs": [
    {
     "data": {
      "text/plain": [
       "9"
      ]
     },
     "execution_count": 19,
     "metadata": {},
     "output_type": "execute_result"
    }
   ],
   "source": [
    "description = soup.find_all('div',class_=\"col-sm-10 forecast-text\")\n",
    "description = description[0:9]\n",
    "len(description)"
   ]
  },
  {
   "cell_type": "code",
   "execution_count": 21,
   "metadata": {},
   "outputs": [
    {
     "data": {
      "text/plain": [
       "['Sunny, with a high near 67. Calm wind becoming west southwest 5 to 7 mph. ',\n",
       " 'Mostly clear, with a low around 51. West wind around 6 mph becoming calm  in the evening. ',\n",
       " 'Sunny, with a high near 68. Calm wind becoming northwest around 5 mph in the afternoon. ',\n",
       " 'Mostly clear, with a low around 51. West wind 5 to 7 mph becoming north after midnight. ',\n",
       " 'Sunny, with a high near 67. North wind around 17 mph, with gusts as high as 34 mph. ',\n",
       " 'Mostly clear, with a low around 52. Breezy. ',\n",
       " 'Sunny, with a high near 66. Breezy. ',\n",
       " 'Mostly clear, with a low around 47.',\n",
       " 'Sunny, with a high near 64.']"
      ]
     },
     "execution_count": 21,
     "metadata": {},
     "output_type": "execute_result"
    }
   ],
   "source": [
    "for i in description:\n",
    "     Description.append(i.get_text().replace(\"\\n\",\"\"))\n",
    "Description"
   ]
  },
  {
   "cell_type": "code",
   "execution_count": 22,
   "metadata": {},
   "outputs": [
    {
     "name": "stdout",
     "output_type": "stream",
     "text": [
      "9 9 4 9\n"
     ]
    }
   ],
   "source": [
    "print(len(Period),len(Short_description),len(Temprature),len(Description))"
   ]
  },
  {
   "cell_type": "code",
   "execution_count": 28,
   "metadata": {},
   "outputs": [],
   "source": [
    "import pandas as pd\n",
    "Weather=pd.DataFrame({})\n",
    "Weather['Period']=Period\n",
    "Weather['Short_description']=Short_description\n",
    "Weather['Description']=Description\n",
    "#Weather['Temprature']=Temprature"
   ]
  },
  {
   "cell_type": "code",
   "execution_count": 26,
   "metadata": {},
   "outputs": [
    {
     "data": {
      "text/html": [
       "<div>\n",
       "<style scoped>\n",
       "    .dataframe tbody tr th:only-of-type {\n",
       "        vertical-align: middle;\n",
       "    }\n",
       "\n",
       "    .dataframe tbody tr th {\n",
       "        vertical-align: top;\n",
       "    }\n",
       "\n",
       "    .dataframe thead th {\n",
       "        text-align: right;\n",
       "    }\n",
       "</style>\n",
       "<table border=\"1\" class=\"dataframe\">\n",
       "  <thead>\n",
       "    <tr style=\"text-align: right;\">\n",
       "      <th></th>\n",
       "      <th>Period</th>\n",
       "      <th>Short_description</th>\n",
       "      <th>Description</th>\n",
       "    </tr>\n",
       "  </thead>\n",
       "  <tbody>\n",
       "    <tr>\n",
       "      <th>0</th>\n",
       "      <td>NOW until7:00pm Sat</td>\n",
       "      <td>High Surf Advisory</td>\n",
       "      <td>Sunny, with a high near 67. Calm wind becoming...</td>\n",
       "    </tr>\n",
       "    <tr>\n",
       "      <th>1</th>\n",
       "      <td>ThisAfternoon</td>\n",
       "      <td>Sunny</td>\n",
       "      <td>Mostly clear, with a low around 51. West wind ...</td>\n",
       "    </tr>\n",
       "    <tr>\n",
       "      <th>2</th>\n",
       "      <td>Tonight</td>\n",
       "      <td>Mostly Clear</td>\n",
       "      <td>Sunny, with a high near 68. Calm wind becoming...</td>\n",
       "    </tr>\n",
       "    <tr>\n",
       "      <th>3</th>\n",
       "      <td>Sunday</td>\n",
       "      <td>Sunny</td>\n",
       "      <td>Mostly clear, with a low around 51. West wind ...</td>\n",
       "    </tr>\n",
       "    <tr>\n",
       "      <th>4</th>\n",
       "      <td>SundayNight</td>\n",
       "      <td>Mostly Clear</td>\n",
       "      <td>Sunny, with a high near 67. North wind around ...</td>\n",
       "    </tr>\n",
       "    <tr>\n",
       "      <th>5</th>\n",
       "      <td>M.L.KingDay</td>\n",
       "      <td>Sunny</td>\n",
       "      <td>Mostly clear, with a low around 52. Breezy.</td>\n",
       "    </tr>\n",
       "    <tr>\n",
       "      <th>6</th>\n",
       "      <td>MondayNight</td>\n",
       "      <td>Mostly Clearand Breezy</td>\n",
       "      <td>Sunny, with a high near 66. Breezy.</td>\n",
       "    </tr>\n",
       "    <tr>\n",
       "      <th>7</th>\n",
       "      <td>Tuesday</td>\n",
       "      <td>Sunny andBreezy</td>\n",
       "      <td>Mostly clear, with a low around 47.</td>\n",
       "    </tr>\n",
       "    <tr>\n",
       "      <th>8</th>\n",
       "      <td>TuesdayNight</td>\n",
       "      <td>Mostly Clear</td>\n",
       "      <td>Sunny, with a high near 64.</td>\n",
       "    </tr>\n",
       "  </tbody>\n",
       "</table>\n",
       "</div>"
      ],
      "text/plain": [
       "                Period       Short_description  \\\n",
       "0  NOW until7:00pm Sat      High Surf Advisory   \n",
       "1        ThisAfternoon                   Sunny   \n",
       "2              Tonight            Mostly Clear   \n",
       "3               Sunday                   Sunny   \n",
       "4          SundayNight            Mostly Clear   \n",
       "5          M.L.KingDay                   Sunny   \n",
       "6          MondayNight  Mostly Clearand Breezy   \n",
       "7              Tuesday         Sunny andBreezy   \n",
       "8         TuesdayNight            Mostly Clear   \n",
       "\n",
       "                                         Description  \n",
       "0  Sunny, with a high near 67. Calm wind becoming...  \n",
       "1  Mostly clear, with a low around 51. West wind ...  \n",
       "2  Sunny, with a high near 68. Calm wind becoming...  \n",
       "3  Mostly clear, with a low around 51. West wind ...  \n",
       "4  Sunny, with a high near 67. North wind around ...  \n",
       "5       Mostly clear, with a low around 52. Breezy.   \n",
       "6               Sunny, with a high near 66. Breezy.   \n",
       "7                Mostly clear, with a low around 47.  \n",
       "8                        Sunny, with a high near 64.  "
      ]
     },
     "execution_count": 26,
     "metadata": {},
     "output_type": "execute_result"
    }
   ],
   "source": [
    "Weather"
   ]
  },
  {
   "cell_type": "code",
   "execution_count": null,
   "metadata": {},
   "outputs": [],
   "source": []
  }
 ],
 "metadata": {
  "kernelspec": {
   "display_name": "Python 3",
   "language": "python",
   "name": "python3"
  },
  "language_info": {
   "codemirror_mode": {
    "name": "ipython",
    "version": 3
   },
   "file_extension": ".py",
   "mimetype": "text/x-python",
   "name": "python",
   "nbconvert_exporter": "python",
   "pygments_lexer": "ipython3",
   "version": "3.7.6"
  }
 },
 "nbformat": 4,
 "nbformat_minor": 4
}
