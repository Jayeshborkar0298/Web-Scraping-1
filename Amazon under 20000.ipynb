{
 "cells": [
  {
   "cell_type": "code",
   "execution_count": 1,
   "metadata": {},
   "outputs": [
    {
     "name": "stdout",
     "output_type": "stream",
     "text": [
      "Requirement already satisfied: selenium in c:\\users\\jbork\\anaconda3\\lib\\site-packages (3.141.0)\n",
      "Requirement already satisfied: urllib3 in c:\\users\\jbork\\anaconda3\\lib\\site-packages (from selenium) (1.25.8)\n"
     ]
    }
   ],
   "source": [
    "! pip install selenium"
   ]
  },
  {
   "cell_type": "code",
   "execution_count": 2,
   "metadata": {},
   "outputs": [],
   "source": [
    "import selenium\n",
    "import pandas as pd\n",
    "from selenium import webdriver\n",
    "import time"
   ]
  },
  {
   "cell_type": "code",
   "execution_count": 3,
   "metadata": {},
   "outputs": [],
   "source": [
    "driver = webdriver.Chrome(r\"C:\\Users\\jbork\\OneDrive\\Desktop\\chromedriver.exe\")"
   ]
  },
  {
   "cell_type": "code",
   "execution_count": 4,
   "metadata": {},
   "outputs": [],
   "source": [
    "url = \"https://www.amazon.in/s?k=mobile+under+20000&ref=nb_sb_noss_2\""
   ]
  },
  {
   "cell_type": "code",
   "execution_count": 5,
   "metadata": {},
   "outputs": [],
   "source": [
    "driver.get(url)"
   ]
  },
  {
   "cell_type": "code",
   "execution_count": 6,
   "metadata": {},
   "outputs": [],
   "source": [
    "Name = []\n",
    "Price = []\n",
    "Ratings = []\n",
    "Img = []"
   ]
  },
  {
   "cell_type": "code",
   "execution_count": 8,
   "metadata": {},
   "outputs": [],
   "source": [
    "for i in range(0, 19):\n",
    "    \n",
    "    name = driver.find_elements_by_xpath(\"//span[@class='a-size-medium a-color-base a-text-normal']\")\n",
    "    for i in name:\n",
    "        Name.append(i.text)\n",
    "\n",
    "    price = driver.find_elements_by_xpath(\"//span[@class='a-price-whole']\")\n",
    "    for i in price:\n",
    "        Price.append(i.text)\n",
    "\n",
    "    rating = driver.find_elements_by_xpath(\"//span[@class='a-icon-alt']\")\n",
    "    for i in rating:\n",
    "        Ratings.append(i.text)\n",
    "\n",
    "    url = driver.find_elements_by_xpath(\"//ul[@class='a-pagination']\")\n",
    "    for i in url:\n",
    "        Img.append(i.get_attribute('src'))\n",
    "\n",
    "    driver.find_element_by_xpath(\"//a[text()='Next']\").click()\n",
    "    time.sleep(5)"
   ]
  },
  {
   "cell_type": "code",
   "execution_count": 11,
   "metadata": {},
   "outputs": [
    {
     "name": "stdout",
     "output_type": "stream",
     "text": [
      "328 310 355 20\n"
     ]
    }
   ],
   "source": [
    "print(len(Name),len(Price),len(Ratings),len(Img))"
   ]
  },
  {
   "cell_type": "code",
   "execution_count": 16,
   "metadata": {},
   "outputs": [],
   "source": [
    "Name = Name[0:310]"
   ]
  },
  {
   "cell_type": "code",
   "execution_count": 17,
   "metadata": {},
   "outputs": [],
   "source": [
    "Price = Price[0:310]"
   ]
  },
  {
   "cell_type": "code",
   "execution_count": 18,
   "metadata": {},
   "outputs": [],
   "source": [
    "Ratings = Ratings[0:310]"
   ]
  },
  {
   "cell_type": "code",
   "execution_count": 19,
   "metadata": {},
   "outputs": [
    {
     "name": "stdout",
     "output_type": "stream",
     "text": [
      "310 310 310\n"
     ]
    }
   ],
   "source": [
    "print(len(Name),len(Price),len(Ratings))"
   ]
  },
  {
   "cell_type": "code",
   "execution_count": 20,
   "metadata": {},
   "outputs": [],
   "source": [
    "df = pd.DataFrame({})"
   ]
  },
  {
   "cell_type": "code",
   "execution_count": 22,
   "metadata": {},
   "outputs": [],
   "source": [
    "df['Name'] = Name\n",
    "df['Price'] = Price\n",
    "df['Ratings'] = Ratings\n",
    "#df['Img'] = Img"
   ]
  },
  {
   "cell_type": "code",
   "execution_count": 23,
   "metadata": {},
   "outputs": [
    {
     "data": {
      "text/html": [
       "<div>\n",
       "<style scoped>\n",
       "    .dataframe tbody tr th:only-of-type {\n",
       "        vertical-align: middle;\n",
       "    }\n",
       "\n",
       "    .dataframe tbody tr th {\n",
       "        vertical-align: top;\n",
       "    }\n",
       "\n",
       "    .dataframe thead th {\n",
       "        text-align: right;\n",
       "    }\n",
       "</style>\n",
       "<table border=\"1\" class=\"dataframe\">\n",
       "  <thead>\n",
       "    <tr style=\"text-align: right;\">\n",
       "      <th></th>\n",
       "      <th>Name</th>\n",
       "      <th>Price</th>\n",
       "      <th>Ratings</th>\n",
       "    </tr>\n",
       "  </thead>\n",
       "  <tbody>\n",
       "    <tr>\n",
       "      <th>0</th>\n",
       "      <td>Vivo Y51 (Titanium Sapphire, 8GB RAM, 128GB RO...</td>\n",
       "      <td>17,990</td>\n",
       "      <td></td>\n",
       "    </tr>\n",
       "    <tr>\n",
       "      <th>1</th>\n",
       "      <td>OPPO F17 Pro (Matte Black, 8GB RAM, 128GB Stor...</td>\n",
       "      <td>21,490</td>\n",
       "      <td></td>\n",
       "    </tr>\n",
       "    <tr>\n",
       "      <th>2</th>\n",
       "      <td>Redmi 9 (Sky Blue, 4GB RAM, 64GB Storage)</td>\n",
       "      <td>8,999</td>\n",
       "      <td></td>\n",
       "    </tr>\n",
       "    <tr>\n",
       "      <th>3</th>\n",
       "      <td>Samsung Galaxy M31 (Ocean Blue, 6GB RAM, 128GB...</td>\n",
       "      <td>16,499</td>\n",
       "      <td></td>\n",
       "    </tr>\n",
       "    <tr>\n",
       "      <th>4</th>\n",
       "      <td>Samsung Galaxy M01 (Black, 3GB RAM, 32GB Stora...</td>\n",
       "      <td>7,499</td>\n",
       "      <td></td>\n",
       "    </tr>\n",
       "    <tr>\n",
       "      <th>...</th>\n",
       "      <td>...</td>\n",
       "      <td>...</td>\n",
       "      <td>...</td>\n",
       "    </tr>\n",
       "    <tr>\n",
       "      <th>305</th>\n",
       "      <td>Oppo Reno2 F (Sky White, 6GB RAM, 256GB Storage)</td>\n",
       "      <td>6,999</td>\n",
       "      <td></td>\n",
       "    </tr>\n",
       "    <tr>\n",
       "      <th>306</th>\n",
       "      <td>Vivo Y51A (Titanium Sapphire, 8GB, 128GB Stora...</td>\n",
       "      <td>6,799</td>\n",
       "      <td></td>\n",
       "    </tr>\n",
       "    <tr>\n",
       "      <th>307</th>\n",
       "      <td>Nokia 800 Tough, 4GB, IP68 Rugged Cell Phone, ...</td>\n",
       "      <td>5,199</td>\n",
       "      <td></td>\n",
       "    </tr>\n",
       "    <tr>\n",
       "      <th>308</th>\n",
       "      <td>(Renewed) Mi A2 (Gold, 64GB)</td>\n",
       "      <td>8,490</td>\n",
       "      <td></td>\n",
       "    </tr>\n",
       "    <tr>\n",
       "      <th>309</th>\n",
       "      <td>LG W31 4GB RAM 64GB ROM 4000 mAh Battery</td>\n",
       "      <td>9,490</td>\n",
       "      <td></td>\n",
       "    </tr>\n",
       "  </tbody>\n",
       "</table>\n",
       "<p>310 rows × 3 columns</p>\n",
       "</div>"
      ],
      "text/plain": [
       "                                                  Name   Price Ratings\n",
       "0    Vivo Y51 (Titanium Sapphire, 8GB RAM, 128GB RO...  17,990        \n",
       "1    OPPO F17 Pro (Matte Black, 8GB RAM, 128GB Stor...  21,490        \n",
       "2            Redmi 9 (Sky Blue, 4GB RAM, 64GB Storage)   8,999        \n",
       "3    Samsung Galaxy M31 (Ocean Blue, 6GB RAM, 128GB...  16,499        \n",
       "4    Samsung Galaxy M01 (Black, 3GB RAM, 32GB Stora...   7,499        \n",
       "..                                                 ...     ...     ...\n",
       "305   Oppo Reno2 F (Sky White, 6GB RAM, 256GB Storage)   6,999        \n",
       "306  Vivo Y51A (Titanium Sapphire, 8GB, 128GB Stora...   6,799        \n",
       "307  Nokia 800 Tough, 4GB, IP68 Rugged Cell Phone, ...   5,199        \n",
       "308                       (Renewed) Mi A2 (Gold, 64GB)   8,490        \n",
       "309           LG W31 4GB RAM 64GB ROM 4000 mAh Battery   9,490        \n",
       "\n",
       "[310 rows x 3 columns]"
      ]
     },
     "execution_count": 23,
     "metadata": {},
     "output_type": "execute_result"
    }
   ],
   "source": [
    "df"
   ]
  },
  {
   "cell_type": "code",
   "execution_count": null,
   "metadata": {},
   "outputs": [],
   "source": []
  }
 ],
 "metadata": {
  "kernelspec": {
   "display_name": "Python 3",
   "language": "python",
   "name": "python3"
  },
  "language_info": {
   "codemirror_mode": {
    "name": "ipython",
    "version": 3
   },
   "file_extension": ".py",
   "mimetype": "text/x-python",
   "name": "python",
   "nbconvert_exporter": "python",
   "pygments_lexer": "ipython3",
   "version": "3.7.6"
  }
 },
 "nbformat": 4,
 "nbformat_minor": 4
}
